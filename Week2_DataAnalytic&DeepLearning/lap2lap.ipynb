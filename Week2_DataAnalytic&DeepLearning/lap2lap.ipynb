{
 "cells": [
  {
   "cell_type": "code",
   "execution_count": 21,
   "metadata": {},
   "outputs": [],
   "source": [
    "import pandas as pd\n",
    "file_path = \"/Users/tgvn.here/Desktop/Week2_nhapmonhocsau/processed_dulieuxettuyendaihoc.csv\"\n",
    "df = pd.read_csv(file_path)"
   ]
  },
  {
   "cell_type": "code",
   "execution_count": 46,
   "metadata": {},
   "outputs": [
    {
     "name": "stdout",
     "output_type": "stream",
     "text": [
      "53    1.00\n",
      "43    1.25\n",
      "72    1.50\n",
      "5     1.50\n",
      "87    1.75\n",
      "      ... \n",
      "84    6.50\n",
      "23    6.75\n",
      "11    6.75\n",
      "97    7.00\n",
      "24    7.00\n",
      "Name: DH1, Length: 100, dtype: float64\n"
     ]
    }
   ],
   "source": [
    "#Sắp xếp dữ liệu điểm DH1 theo thứ tự tăng dần\n",
    "df_sorted = df.sort_values(by = \"DH1\")[\"DH1\"]\n",
    "print(df_sorted)"
   ]
  },
  {
   "cell_type": "code",
   "execution_count": 47,
   "metadata": {},
   "outputs": [
    {
     "name": "stdout",
     "output_type": "stream",
     "text": [
      "   GT   DH2\n",
      "95  F  1.50\n",
      "25  F  2.00\n",
      "24  F  2.25\n",
      "46  F  2.25\n",
      "13  F  2.75\n",
      ".. ..   ...\n",
      "68  M  6.00\n",
      "11  M  6.50\n",
      "47  M  6.50\n",
      "2   M  6.75\n",
      "97  M  8.00\n",
      "\n",
      "[100 rows x 2 columns]\n"
     ]
    }
   ],
   "source": [
    "#Sắp xếp dữ liệu điểm DH2 tăng dần theo nhóm giới tính\n",
    "df_sort = df.sort_values(by = [\"GT\", \"DH2\"])\n",
    "print(df_sort[[\"GT\", \"DH2\"]])"
   ]
  },
  {
   "cell_type": "code",
   "execution_count": null,
   "metadata": {},
   "outputs": [],
   "source": []
  }
 ],
 "metadata": {
  "kernelspec": {
   "display_name": "base",
   "language": "python",
   "name": "python3"
  },
  "language_info": {
   "codemirror_mode": {
    "name": "ipython",
    "version": 3
   },
   "file_extension": ".py",
   "mimetype": "text/x-python",
   "name": "python",
   "nbconvert_exporter": "python",
   "pygments_lexer": "ipython3",
   "version": "3.12.2"
  },
  "orig_nbformat": 4
 },
 "nbformat": 4,
 "nbformat_minor": 2
}
