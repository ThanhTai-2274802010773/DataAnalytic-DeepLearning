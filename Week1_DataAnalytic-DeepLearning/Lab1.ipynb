{
 "cells": [
  {
   "cell_type": "code",
   "execution_count": 13,
   "metadata": {},
   "outputs": [
    {
     "name": "stdout",
     "output_type": "stream",
     "text": [
      "10 dòng đầu tiên:\n",
      "   STT   T1   L1   H1   S1   V1   X1   D1   N1   T2  ...   X6   D6   N6  GT  \\\n",
      "0    1  7.2  7.3  6.3  7.3  7.0  7.9  7.3  5.5  8.4  ...  6.6  7.6  5.9   F   \n",
      "1    2  5.4  3.9  3.9  4.0  5.4  5.4  5.3  2.8  6.3  ...  6.6  6.1  4.4   M   \n",
      "2    3  5.6  6.8  7.2  7.5  4.3  7.4  5.8  3.2  5.0  ...  7.9  8.1  4.6   M   \n",
      "3    4  6.6  6.4  5.3  6.9  5.4  7.3  6.4  5.8  5.1  ...  7.1  7.3  7.4   M   \n",
      "4    5  6.0  5.0  6.0  7.3  6.5  7.7  7.9  6.1  5.4  ...  6.1  7.5  7.2   M   \n",
      "5    6  9.3  7.6  7.9  8.6  7.0  7.3  7.7  7.9  9.6  ...  5.7  8.0  7.8   M   \n",
      "6    7  2.8  3.9  5.5  6.9  5.0  7.3  4.6  5.2  4.4  ...  6.6  6.0  6.0   F   \n",
      "7    8  8.3  6.0  7.6  5.1  7.5  4.7  5.8  7.2  6.7  ...  7.1  6.8  7.0   F   \n",
      "8    9  6.5  6.3  7.6  6.0  5.5  7.1  6.3  5.0  7.3  ...  9.1  7.9  6.1   F   \n",
      "9   10  7.3  5.9  4.7  7.1  6.7  7.9  6.7  7.7  8.0  ...  6.4  6.1  7.8   F   \n",
      "\n",
      "   DT   KV   DH1   DH2   DH3  KT  \n",
      "0 NaN  2NT  3.25  3.25  4.50  A1  \n",
      "1 NaN    1  6.00  4.00  3.50   C  \n",
      "2 NaN    1  5.00  6.75  4.00   C  \n",
      "3 NaN    1  4.25  4.25  5.25  D1  \n",
      "4 NaN  2NT  4.25  4.50  5.00   A  \n",
      "5 NaN    1  1.50  4.00  6.00  D1  \n",
      "6 NaN    2  6.50  6.75  5.25   C  \n",
      "7 NaN    2  3.75  4.50  4.25  D1  \n",
      "8 NaN    1  3.50  3.50  6.75  D1  \n",
      "9 NaN    1  4.00  4.75  5.50  D1  \n",
      "\n",
      "[10 rows x 56 columns]\n",
      "\n",
      "10 dòng cuối cùng:\n",
      "    STT   T1   L1   H1   S1   V1   X1   D1   N1   T2  ...   X6   D6   N6  GT  \\\n",
      "90   91  8.1  7.7  9.1  8.5  6.1  8.6  8.8  7.3  8.8  ...  8.3  8.7  7.8   M   \n",
      "91   92  7.8  6.5  6.7  5.4  6.2  4.8  5.9  4.4  8.9  ...  7.2  7.4  7.0   M   \n",
      "92   93  5.0  6.6  6.5  7.2  5.8  6.7  6.4  6.0  6.8  ...  5.9  6.7  5.8   M   \n",
      "93   94  5.2  5.2  6.8  7.9  6.6  8.9  7.6  5.3  6.8  ...  8.7  7.8  5.0   M   \n",
      "94   95  5.8  5.9  7.6  6.1  5.3  8.1  6.1  5.0  6.4  ...  7.3  6.8  5.3   M   \n",
      "95   96  8.6  6.9  7.4  8.8  7.6  5.8  7.3  5.7  8.9  ...  6.3  6.1  6.2   F   \n",
      "96   97  3.7  5.4  6.0  5.1  5.5  3.9  6.1  4.4  4.1  ...  7.9  7.5  4.4   F   \n",
      "97   98  8.8  5.5  7.4  7.7  6.2  7.3  8.1  4.5  9.5  ...  9.6  8.4  5.8   M   \n",
      "98   99  2.7  1.8  3.4  5.3  4.5  7.9  4.9  3.8  2.8  ...  6.6  5.2  5.9   M   \n",
      "99  100  4.1  5.2  4.9  5.3  5.5  5.4  7.2  5.4  4.4  ...  5.6  6.6  5.8   M   \n",
      "\n",
      "    DT   KV   DH1   DH2   DH3  KT  \n",
      "90 NaN    2  6.25  4.00  6.50   A  \n",
      "91 NaN  2NT  4.75  4.75  4.50   A  \n",
      "92 NaN    1  3.25  5.25  4.25   A  \n",
      "93 NaN    1  3.50  4.25  5.00   A  \n",
      "94 NaN    1  4.25  2.50  4.75   A  \n",
      "95 NaN    1  5.25  1.50  6.25   C  \n",
      "96 NaN    1  5.25  3.75  4.75   C  \n",
      "97 NaN  2NT  7.00  8.00  4.00   C  \n",
      "98 NaN    1  5.00  3.50  5.50   C  \n",
      "99 NaN  2NT  5.25  2.50  4.25   C  \n",
      "\n",
      "[10 rows x 56 columns]\n"
     ]
    }
   ],
   "source": [
    "import pandas as pd\n",
    "import numpy as np\n",
    "\n",
    "# Đọc dữ liệu từ file CSV\n",
    "df = pd.read_csv('dulieuxettuyendaihoc.csv')\n",
    "\n",
    "# In 10 dòng đầu tiên\n",
    "print(\"10 dòng đầu tiên:\")\n",
    "print(df.head(10))\n",
    "\n",
    "# In 10 dòng cuối cùng\n",
    "print(\"\\n10 dòng cuối cùng:\")\n",
    "print(df.tail(10))"
   ]
  },
  {
   "cell_type": "markdown",
   "metadata": {},
   "source": [
    " Xác định và phân loại dữ liệu định tính và định lượng:\n",
    "\n",
    "Dữ liệu định lượng (Quantitative):\n",
    "T1, L1, H1, S1, V1, X1, D1, N1\n",
    "T2, L2, H2, S2, V2, X2, D2, N2\n",
    "T6, L6, H6, S6, V6, X6, D6, N6\n",
    "DH1, DH2, DH3\n",
    "\n",
    "Dữ liệu định tính (Qualitative):\n",
    "GT (Giới tính)\n",
    "DT (Dân tộc)\n",
    "KV (Khu vực thi)\n",
    "KT (Khối thi)"
   ]
  },
  {
   "cell_type": "markdown",
   "metadata": {},
   "source": [
    "Định nghĩa các thang đo phù hợp cho từng biến số:\n",
    "\n",
    "Dữ liệu định lượng:\n",
    "T1, L1, H1,... DH1, DH2, DH3: Thang đo tỷ lệ (Ratio scale) - Điểm số có giá trị tuyệt đối và có ý nghĩa so sánh.\n",
    "\n",
    "Dữ liệu định tính:\n",
    "GT, DT, KV, KT: Thang đo danh nghĩa (Nominal scale) - Các giá trị chỉ mang tính phân loại, không có thứ tự."
   ]
  },
  {
   "cell_type": "code",
   "execution_count": 14,
   "metadata": {},
   "outputs": [
    {
     "name": "stdout",
     "output_type": "stream",
     "text": [
      "\n",
      "Số lượng dữ liệu thiếu trong cột 'DT': 97\n",
      "\n",
      "Số lượng dữ liệu thiếu trong cột 'DT' sau khi hiệu chỉnh: 0\n"
     ]
    }
   ],
   "source": [
    "# Thống kê dữ liệu thiếu cho cột 'DT' (Dân tộc)\n",
    "print(\"\\nSố lượng dữ liệu thiếu trong cột 'DT':\", df['DT'].isnull().sum())\n",
    "\n",
    "# Hiệu chỉnh dữ liệu thiếu: Điền giá trị 0 vào các ô thiếu\n",
    "df['DT'] = df['DT'].fillna(0)\n",
    "\n",
    "# Kiểm tra lại số lượng dữ liệu thiếu sau khi hiệu chỉnh\n",
    "print(\"\\nSố lượng dữ liệu thiếu trong cột 'DT' sau khi hiệu chỉnh:\", df['DT'].isnull().sum())"
   ]
  },
  {
   "cell_type": "code",
   "execution_count": 15,
   "metadata": {},
   "outputs": [
    {
     "name": "stdout",
     "output_type": "stream",
     "text": [
      "Số lượng dữ liệu thiếu trong cột 'T1': 0\n",
      "Số lượng dữ liệu thiếu trong cột 'T1' sau khi hiệu chỉnh: 0\n"
     ]
    }
   ],
   "source": [
    "# Thống kê dữ liệu thiếu cho cột 'T1'\n",
    "print(\"Số lượng dữ liệu thiếu trong cột 'T1':\", df['T1'].isnull().sum())\n",
    "\n",
    "# Thay thế dữ liệu thiếu bằng giá trị trung bình (mean)\n",
    "mean_T1 = df['T1'].mean()\n",
    "df['T1'] = df['T1'].fillna(mean_T1)\n",
    "\n",
    "# Kiểm tra lại số lượng dữ liệu thiếu sau khi hiệu chỉnh\n",
    "print(\"Số lượng dữ liệu thiếu trong cột 'T1' sau khi hiệu chỉnh:\", df['T1'].isnull().sum())"
   ]
  },
  {
   "cell_type": "code",
   "execution_count": 16,
   "metadata": {},
   "outputs": [],
   "source": [
    "# Lặp qua các cột điểm số và thay thế giá trị thiếu bằng mean\n",
    "diem_so_cols = ['L1', 'H1', 'S1', 'V1', 'X1', 'D1', 'N1',\n",
    "                 'T2', 'L2', 'H2', 'S2', 'V2', 'X2', 'D2', 'N2',\n",
    "                 'T6', 'L6', 'H6', 'S6', 'V6', 'X6', 'D6', 'N6',\n",
    "                 'DH1', 'DH2', 'DH3']\n",
    "\n",
    "for col in diem_so_cols:\n",
    "    mean_val = df[col].mean()\n",
    "    df[col] = df[col].fillna(mean_val)"
   ]
  },
  {
   "cell_type": "code",
   "execution_count": 17,
   "metadata": {},
   "outputs": [],
   "source": [
    "df['TBM1'] = (df['T1'] * 2 + df['L1'] + df['H1'] + df['S1'] + df['V1'] * 2 + df['X1'] + df['D1'] + df['N1']) / 10\n",
    "df['TBM2'] = (df['T2'] * 2 + df['L2'] + df['H2'] + df['S2'] + df['V2'] * 2 + df['X2'] + df['D2'] + df['N2']) / 10\n",
    "df['TBM3'] = (df['T6'] * 2 + df['L6'] + df['H6'] + df['S6'] + df['V6'] * 2 + df['X6'] + df['D6'] + df['N6']) / 10"
   ]
  },
  {
   "cell_type": "code",
   "execution_count": 18,
   "metadata": {},
   "outputs": [],
   "source": [
    "#9. Tạo các biến US_TBM1, US_TBM2 và US_TBM3 (Min-Max Normalization):\n",
    "def xep_loai(diem):\n",
    "    if diem < 5:\n",
    "        return 'Y'\n",
    "    elif diem < 6.5:\n",
    "        return 'TB'\n",
    "    elif diem < 8:\n",
    "        return 'K'\n",
    "    elif diem < 9:\n",
    "        return 'G'\n",
    "    else:\n",
    "        return 'XS'\n",
    "\n",
    "df['XL1'] = df['TBM1'].apply(xep_loai)\n",
    "df['XL2'] = df['TBM2'].apply(xep_loai)\n",
    "df['XL3'] = df['TBM3'].apply(xep_loai)"
   ]
  },
  {
   "cell_type": "code",
   "execution_count": 19,
   "metadata": {},
   "outputs": [],
   "source": [
    "#\n",
    "def normalize_minmax(diem):\n",
    "    return diem / 2.5  # Thang điểm 10 -> 4\n",
    "\n",
    "df['US_TBM1'] = df['TBM1'].apply(normalize_minmax)\n",
    "df['US_TBM2'] = df['TBM2'].apply(normalize_minmax)\n",
    "df['US_TBM3'] = df['TBM3'].apply(normalize_minmax)"
   ]
  },
  {
   "cell_type": "code",
   "execution_count": 20,
   "metadata": {},
   "outputs": [],
   "source": [
    "def ket_qua_xet_tuyen(row):\n",
    "    if row['KT'] in ['A', 'A1']:\n",
    "        diem_xet_tuyen = (row['DH1'] * 2 + row['DH2'] + row['DH3']) / 4\n",
    "    elif row['KT'] == 'B':\n",
    "        diem_xet_tuyen = (row['DH1'] + row['DH2'] * 2 + row['DH3']) / 4\n",
    "    else:\n",
    "        diem_xet_tuyen = (row['DH1'] + row['DH2'] + row['DH3']) / 3\n",
    "\n",
    "    return 1 if diem_xet_tuyen >= 5 else 0\n",
    "\n",
    "df['KQXT'] = df.apply(ket_qua_xet_tuyen, axis=1)"
   ]
  },
  {
   "cell_type": "code",
   "execution_count": 21,
   "metadata": {},
   "outputs": [],
   "source": [
    "df.to_csv('processed_dulieuxettuyendaihoc.csv', index=False)"
   ]
  }
 ],
 "metadata": {
  "kernelspec": {
   "display_name": "Python 3",
   "language": "python",
   "name": "python3"
  },
  "language_info": {
   "codemirror_mode": {
    "name": "ipython",
    "version": 3
   },
   "file_extension": ".py",
   "mimetype": "text/x-python",
   "name": "python",
   "nbconvert_exporter": "python",
   "pygments_lexer": "ipython3",
   "version": "3.12.2"
  }
 },
 "nbformat": 4,
 "nbformat_minor": 2
}
