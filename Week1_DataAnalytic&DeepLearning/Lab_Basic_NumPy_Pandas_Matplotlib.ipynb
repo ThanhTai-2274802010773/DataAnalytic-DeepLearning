{
 "cells": [
  {
   "cell_type": "markdown",
   "id": "8b4c9ee9",
   "metadata": {},
   "source": [
    "# **Lab cơ bản về NumPy, Pandas và Matplotlib**"
   ]
  },
  {
   "cell_type": "markdown",
   "id": "fd3c8ac6",
   "metadata": {},
   "source": [
    "\n",
    "### **Giới thiệu**\n",
    "Lab này tập trung vào các lệnh cơ bản nhất của **NumPy**, **Pandas**, và **Matplotlib**.  \n",
    "Bạn sẽ thực hành:\n",
    "- Tạo và thao tác với mảng NumPy.\n",
    "- Tạo và xử lý dữ liệu trong Pandas DataFrame.\n",
    "- Vẽ biểu đồ cơ bản với Matplotlib.\n"
   ]
  },
  {
   "cell_type": "markdown",
   "id": "d9bf39cc",
   "metadata": {},
   "source": [
    "## **Phần 1: NumPy**"
   ]
  },
  {
   "cell_type": "markdown",
   "id": "3dbfed53",
   "metadata": {},
   "source": [
    "### **1.1: Tạo mảng NumPy**"
   ]
  },
  {
   "cell_type": "code",
   "execution_count": null,
   "id": "b47d41d6",
   "metadata": {},
   "outputs": [],
   "source": [
    "\n",
    "import numpy as np\n",
    "\n",
    "# Tạo một mảng 1D\n",
    "array_1d = np.array([1, 2, 3, 4, 5])\n",
    "print(\"Mảng 1D:\", array_1d)\n",
    "\n",
    "# Tạo một mảng 2D\n",
    "array_2d = np.array([[1, 2, 3], [4, 5, 6]])\n",
    "print(\"Mảng 2D:\n",
    "\", array_2d)\n",
    "\n",
    "# Tạo mảng số ngẫu nhiên\n",
    "random_array = np.random.rand(3, 3)\n",
    "print(\"Mảng số ngẫu nhiên:\n",
    "\", random_array)\n"
   ]
  },
  {
   "cell_type": "markdown",
   "id": "472b0ef7",
   "metadata": {},
   "source": [
    "### **1.2: Các thao tác cơ bản**"
   ]
  },
  {
   "cell_type": "code",
   "execution_count": null,
   "id": "dfe42a7f",
   "metadata": {},
   "outputs": [],
   "source": [
    "\n",
    "# Các thao tác cơ bản với mảng\n",
    "array = np.array([10, 20, 30, 40, 50])\n",
    "\n",
    "# Cộng, trừ, nhân, chia với một số\n",
    "print(\"Cộng thêm 10:\", array + 10)\n",
    "print(\"Nhân với 2:\", array * 2)\n",
    "\n",
    "# Tính tổng, trung bình, lớn nhất, nhỏ nhất\n",
    "print(\"Tổng:\", array.sum())\n",
    "print(\"Trung bình:\", array.mean())\n",
    "print(\"Giá trị lớn nhất:\", array.max())\n",
    "print(\"Giá trị nhỏ nhất:\", array.min())\n",
    "\n",
    "# Lấy phần tử và lát cắt\n",
    "print(\"Phần tử đầu tiên:\", array[0])\n",
    "print(\"Lát cắt [1:4]:\", array[1:4])\n"
   ]
  },
  {
   "cell_type": "markdown",
   "id": "cb567595",
   "metadata": {},
   "source": [
    "## **Phần 2: Pandas**"
   ]
  },
  {
   "cell_type": "markdown",
   "id": "6a64af79",
   "metadata": {},
   "source": [
    "### **2.1: Tạo DataFrame**"
   ]
  },
  {
   "cell_type": "code",
   "execution_count": null,
   "id": "64117503",
   "metadata": {},
   "outputs": [],
   "source": [
    "\n",
    "import pandas as pd\n",
    "\n",
    "# Tạo DataFrame từ dictionary\n",
    "data = {\n",
    "    \"Name\": [\"Alice\", \"Bob\", \"Charlie\"],\n",
    "    \"Age\": [25, 30, 35],\n",
    "    \"Score\": [85, 90, 95]\n",
    "}\n",
    "df = pd.DataFrame(data)\n",
    "print(\"DataFrame:\n",
    "\", df)\n"
   ]
  },
  {
   "cell_type": "markdown",
   "id": "b351470b",
   "metadata": {},
   "source": [
    "### **2.2: Các thao tác cơ bản với DataFrame**"
   ]
  },
  {
   "cell_type": "code",
   "execution_count": null,
   "id": "d0bdea49",
   "metadata": {},
   "outputs": [],
   "source": [
    "\n",
    "# Truy cập dữ liệu\n",
    "print(\"Cột Age:\n",
    "\", df[\"Age\"])\n",
    "print(\"Hàng đầu tiên:\n",
    "\", df.iloc[0])\n",
    "\n",
    "# Lọc dữ liệu\n",
    "filtered_df = df[df[\"Score\"] > 85]\n",
    "print(\"Học sinh có điểm > 85:\n",
    "\", filtered_df)\n",
    "\n",
    "# Tính toán\n",
    "print(\"Tuổi trung bình:\", df[\"Age\"].mean())\n"
   ]
  },
  {
   "cell_type": "markdown",
   "id": "c8b93d24",
   "metadata": {},
   "source": [
    "## **Phần 3: Matplotlib**"
   ]
  },
  {
   "cell_type": "markdown",
   "id": "3b6400fc",
   "metadata": {},
   "source": [
    "### **3.1: Biểu đồ đường**"
   ]
  },
  {
   "cell_type": "code",
   "execution_count": null,
   "id": "0bc711f5",
   "metadata": {},
   "outputs": [],
   "source": [
    "\n",
    "import matplotlib.pyplot as plt\n",
    "\n",
    "# Vẽ biểu đồ đường\n",
    "x = [1, 2, 3, 4, 5]\n",
    "y = [10, 20, 15, 25, 30]\n",
    "\n",
    "plt.plot(x, y, label=\"Biểu đồ đường\", color=\"blue\", marker=\"o\")\n",
    "plt.title(\"Biểu đồ đường cơ bản\")\n",
    "plt.xlabel(\"Trục X\")\n",
    "plt.ylabel(\"Trục Y\")\n",
    "plt.legend()\n",
    "plt.show()\n"
   ]
  },
  {
   "cell_type": "markdown",
   "id": "e221806d",
   "metadata": {},
   "source": [
    "### **3.2: Biểu đồ cột**"
   ]
  },
  {
   "cell_type": "code",
   "execution_count": null,
   "id": "0927613f",
   "metadata": {},
   "outputs": [],
   "source": [
    "\n",
    "# Vẽ biểu đồ cột\n",
    "categories = [\"A\", \"B\", \"C\", \"D\"]\n",
    "values = [5, 7, 3, 8]\n",
    "\n",
    "plt.bar(categories, values, color=\"skyblue\")\n",
    "plt.title(\"Biểu đồ cột\")\n",
    "plt.xlabel(\"Danh mục\")\n",
    "plt.ylabel(\"Giá trị\")\n",
    "plt.show()\n"
   ]
  },
  {
   "cell_type": "markdown",
   "id": "5dff99e4",
   "metadata": {},
   "source": [
    "### **3.3: Biểu đồ phân tán**"
   ]
  },
  {
   "cell_type": "code",
   "execution_count": null,
   "id": "6e033da6",
   "metadata": {},
   "outputs": [],
   "source": [
    "\n",
    "# Vẽ biểu đồ phân tán\n",
    "x = np.random.rand(50)\n",
    "y = np.random.rand(50)\n",
    "sizes = np.random.rand(50) * 100\n",
    "\n",
    "plt.scatter(x, y, s=sizes, alpha=0.5, c='green')\n",
    "plt.title(\"Biểu đồ phân tán\")\n",
    "plt.xlabel(\"Trục X\")\n",
    "plt.ylabel(\"Trục Y\")\n",
    "plt.show()\n"
   ]
  }
 ],
 "metadata": {
  "kernelspec": {
   "display_name": "base",
   "language": "python",
   "name": "python3"
  },
  "language_info": {
   "name": "python",
   "version": "3.12.2"
  }
 },
 "nbformat": 4,
 "nbformat_minor": 5
}
