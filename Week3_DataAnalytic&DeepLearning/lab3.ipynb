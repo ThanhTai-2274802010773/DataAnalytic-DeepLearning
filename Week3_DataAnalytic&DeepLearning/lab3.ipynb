{
 "cells": [
  {
   "cell_type": "markdown",
   "metadata": {},
   "source": [
    "# LAB 3 - Làm sạch dữ liệu cơ bản "
   ]
  },
  {
   "cell_type": "markdown",
   "metadata": {},
   "source": [
    "## 1. Tạo dữ liệu"
   ]
  },
  {
   "cell_type": "code",
   "execution_count": null,
   "metadata": {},
   "outputs": [],
   "source": [
    "import pandas as pd\n",
    "\n",
    "data = {\n",
    "\"id\" : [1, 2, 3, 4, 5], \n",
    "\"name\" : [\"Anh\", \"Em\", \"Phong\", \"Phú\", None],\n",
    "\"age\" : [15, 14, 18, 28, 50],\n",
    "\"email\" : [\"anh.anh@vlu.edu.vn\", \"em@gmail.com\", \"phong@vanlanguni.vn\", \"phu@yahoo.com\", None],\n",
    "\"salary\" : [None, 70000, 10000, 25000, 15000]\n",
    "}\n",
    "\n",
    "df = pd.DataFrame(data)\n",
    "print(df)"
   ]
  },
  {
   "cell_type": "code",
   "execution_count": null,
   "metadata": {},
   "outputs": [],
   "source": [
    "# Lấy 5 dòng đầu tiên:\n",
    "df.head()"
   ]
  },
  {
   "cell_type": "code",
   "execution_count": null,
   "metadata": {},
   "outputs": [],
   "source": [
    "# Kiểm tra dữ liệu còn thiếu:\n",
    "df.isnull().sum()"
   ]
  },
  {
   "cell_type": "code",
   "execution_count": null,
   "metadata": {},
   "outputs": [],
   "source": [
    "# Điền giá trị thiếu bằng gia trị trung bình cho côt salary:\n",
    "df[\"salary\"].fillna(df[\"salary\"].mean(), inplace = True)"
   ]
  },
  {
   "cell_type": "code",
   "execution_count": null,
   "metadata": {},
   "outputs": [],
   "source": [
    "# Điền giá trị thiếu bằng Unknow cho cột \"name\" và cột \"email\"\n",
    "df[\"name\"].fillna(\"Unknow\", inplace = True)\n",
    "df[\"email\"].fillna(\"Unknow\", inplace = True)"
   ]
  },
  {
   "cell_type": "code",
   "execution_count": null,
   "metadata": {},
   "outputs": [],
   "source": [
    "# Kiểm tra lại dữ liệu thiếu:\n",
    "df.isnull().sum()"
   ]
  },
  {
   "cell_type": "code",
   "execution_count": null,
   "metadata": {},
   "outputs": [],
   "source": [
    "df.head()"
   ]
  },
  {
   "cell_type": "code",
   "execution_count": null,
   "metadata": {},
   "outputs": [],
   "source": [
    "# Loại bỏ dữ liệu trùng lặp:\n",
    "df.drop_duplicates(inplace = True)\n",
    "\n",
    "df"
   ]
  },
  {
   "cell_type": "code",
   "execution_count": null,
   "metadata": {},
   "outputs": [],
   "source": [
    "# Chuẩn hoá cột \"name\" bằng cách viết hoa chữ cái đầu:\n",
    "df[\"name\"] = df[\"name\"].str.title() \n",
    "\n",
    "# Chuẩn hoá cột \"email\" bằng cách chuyển về chữ thường:\n",
    "df[\"email\"] = df[\"email\"].str.lower()\n",
    "\n",
    "df"
   ]
  },
  {
   "cell_type": "code",
   "execution_count": null,
   "metadata": {},
   "outputs": [],
   "source": [
    "# Lưu dữ liệu đã làm sạch:\n",
    "df.to_csv(\"Dulieulamsach.csv\", index = False)"
   ]
  },
  {
   "cell_type": "markdown",
   "metadata": {},
   "source": [
    "# Bài tập về nhà\n"
   ]
  },
  {
   "cell_type": "markdown",
   "metadata": {},
   "source": [
    "### Cho dữ liệu dirty_data.csv \n",
    "1. Kiểm tra dữ liệu bị thiếu:\n",
    "    - Kiểm tra các cột có dữ liệu thiếu\n",
    "    - Điền giá trị phù hợp hoặc loại bỏ các hàng có quá nhiều dữ liệu thiếu\n",
    "2. Phát hiện và sửa lỗi các dữ liệu bất thường:\n",
    "    - Tìm các giá trị bất thường trong cột tuổi(age) có thể là âm hoặc quá lớn\n",
    "    - Kiểm tra cột thu nhập(income) để phát hiện dữ liệu sai\n",
    "3. Chuẩn hoá dạng dữ liệu:\n",
    "    - Chuyển đổi cột ngày sinh về dạng chuẩn yyyy-mm-dd\n",
    "    - Chuẩn hoá dữ liệu trong cột giới tính(gender) để chỉ có hai giới tính hợp lệ \"Male\" và \"Female\"\n",
    "4. Xoá bỏ dữ liệu trùng lặp: \n",
    "    - Xác định và xoá các bảng ghi trùng lặp dựa trên thông tin khách hàng\n",
    "5. Xuất dữ liệu làm sạch:\n",
    "    - Lưu tập dữ liệu đã làm sạch thành tệp mới clean_data.csv"
   ]
  },
  {
   "cell_type": "code",
   "execution_count": 1,
   "metadata": {},
   "outputs": [
    {
     "name": "stdout",
     "output_type": "stream",
     "text": [
      "customer_id    0\n",
      "name           0\n",
      "age            1\n",
      "gender         0\n",
      "dob            0\n",
      "income         1\n",
      "email          0\n",
      "dtype: int64\n"
     ]
    },
    {
     "data": {
      "text/html": [
       "<div>\n",
       "<style scoped>\n",
       "    .dataframe tbody tr th:only-of-type {\n",
       "        vertical-align: middle;\n",
       "    }\n",
       "\n",
       "    .dataframe tbody tr th {\n",
       "        vertical-align: top;\n",
       "    }\n",
       "\n",
       "    .dataframe thead th {\n",
       "        text-align: right;\n",
       "    }\n",
       "</style>\n",
       "<table border=\"1\" class=\"dataframe\">\n",
       "  <thead>\n",
       "    <tr style=\"text-align: right;\">\n",
       "      <th></th>\n",
       "      <th>customer_id</th>\n",
       "      <th>name</th>\n",
       "      <th>age</th>\n",
       "      <th>gender</th>\n",
       "      <th>dob</th>\n",
       "      <th>income</th>\n",
       "      <th>email</th>\n",
       "    </tr>\n",
       "  </thead>\n",
       "  <tbody>\n",
       "    <tr>\n",
       "      <th>0</th>\n",
       "      <td>101</td>\n",
       "      <td>Nguyen Van A</td>\n",
       "      <td>25.0</td>\n",
       "      <td>Male</td>\n",
       "      <td>1998-05-22</td>\n",
       "      <td>1200</td>\n",
       "      <td>a@example.com</td>\n",
       "    </tr>\n",
       "    <tr>\n",
       "      <th>1</th>\n",
       "      <td>102</td>\n",
       "      <td>Tran Thi B</td>\n",
       "      <td>42.0</td>\n",
       "      <td>Female</td>\n",
       "      <td>1981-07-14</td>\n",
       "      <td>4500</td>\n",
       "      <td>b@example.com</td>\n",
       "    </tr>\n",
       "    <tr>\n",
       "      <th>2</th>\n",
       "      <td>103</td>\n",
       "      <td>Le Van C</td>\n",
       "      <td>-5.0</td>\n",
       "      <td>male</td>\n",
       "      <td>12/03/1995</td>\n",
       "      <td>3200</td>\n",
       "      <td>c@example.com</td>\n",
       "    </tr>\n",
       "    <tr>\n",
       "      <th>3</th>\n",
       "      <td>104</td>\n",
       "      <td>Hoang Minh D</td>\n",
       "      <td>150.0</td>\n",
       "      <td>F</td>\n",
       "      <td>1980/08/25</td>\n",
       "      <td>-500</td>\n",
       "      <td>d@example.com</td>\n",
       "    </tr>\n",
       "    <tr>\n",
       "      <th>4</th>\n",
       "      <td>105</td>\n",
       "      <td>Pham Thi E</td>\n",
       "      <td>30.0</td>\n",
       "      <td>Fem</td>\n",
       "      <td>1993-09-30</td>\n",
       "      <td>NaN</td>\n",
       "      <td>e@example.com</td>\n",
       "    </tr>\n",
       "    <tr>\n",
       "      <th>5</th>\n",
       "      <td>106</td>\n",
       "      <td>Nguyen Van F</td>\n",
       "      <td>NaN</td>\n",
       "      <td>M</td>\n",
       "      <td>1996-11-02</td>\n",
       "      <td>2500</td>\n",
       "      <td>f@example.com</td>\n",
       "    </tr>\n",
       "    <tr>\n",
       "      <th>6</th>\n",
       "      <td>107</td>\n",
       "      <td>Bui Thi G</td>\n",
       "      <td>29.0</td>\n",
       "      <td>Female</td>\n",
       "      <td>1994/06/15</td>\n",
       "      <td>3800</td>\n",
       "      <td>g@example.com</td>\n",
       "    </tr>\n",
       "    <tr>\n",
       "      <th>7</th>\n",
       "      <td>108</td>\n",
       "      <td>Dang Van H</td>\n",
       "      <td>40.0</td>\n",
       "      <td>f</td>\n",
       "      <td>1990-01-29</td>\n",
       "      <td>4200</td>\n",
       "      <td>h@example.com</td>\n",
       "    </tr>\n",
       "    <tr>\n",
       "      <th>8</th>\n",
       "      <td>109</td>\n",
       "      <td>Vo Thi I</td>\n",
       "      <td>27.0</td>\n",
       "      <td>Male</td>\n",
       "      <td>1995-04-10</td>\n",
       "      <td>3900</td>\n",
       "      <td>i@example.com</td>\n",
       "    </tr>\n",
       "    <tr>\n",
       "      <th>9</th>\n",
       "      <td>110</td>\n",
       "      <td>Phan Van J</td>\n",
       "      <td>22.0</td>\n",
       "      <td>unknown</td>\n",
       "      <td>1999-12-20</td>\n",
       "      <td>unknown</td>\n",
       "      <td>j@example.com</td>\n",
       "    </tr>\n",
       "    <tr>\n",
       "      <th>10</th>\n",
       "      <td>110</td>\n",
       "      <td>Phan Van J</td>\n",
       "      <td>22.0</td>\n",
       "      <td>Male</td>\n",
       "      <td>1999-12-20</td>\n",
       "      <td>3900</td>\n",
       "      <td>j@example.com</td>\n",
       "    </tr>\n",
       "  </tbody>\n",
       "</table>\n",
       "</div>"
      ],
      "text/plain": [
       "    customer_id          name    age   gender         dob   income  \\\n",
       "0           101  Nguyen Van A   25.0     Male  1998-05-22     1200   \n",
       "1           102    Tran Thi B   42.0   Female  1981-07-14     4500   \n",
       "2           103      Le Van C   -5.0     male  12/03/1995     3200   \n",
       "3           104  Hoang Minh D  150.0        F  1980/08/25     -500   \n",
       "4           105    Pham Thi E   30.0      Fem  1993-09-30      NaN   \n",
       "5           106  Nguyen Van F    NaN        M  1996-11-02     2500   \n",
       "6           107     Bui Thi G   29.0   Female  1994/06/15     3800   \n",
       "7           108    Dang Van H   40.0        f  1990-01-29     4200   \n",
       "8           109      Vo Thi I   27.0     Male  1995-04-10     3900   \n",
       "9           110    Phan Van J   22.0  unknown  1999-12-20  unknown   \n",
       "10          110    Phan Van J   22.0     Male  1999-12-20     3900   \n",
       "\n",
       "            email  \n",
       "0   a@example.com  \n",
       "1   b@example.com  \n",
       "2   c@example.com  \n",
       "3   d@example.com  \n",
       "4   e@example.com  \n",
       "5   f@example.com  \n",
       "6   g@example.com  \n",
       "7   h@example.com  \n",
       "8   i@example.com  \n",
       "9   j@example.com  \n",
       "10  j@example.com  "
      ]
     },
     "execution_count": 1,
     "metadata": {},
     "output_type": "execute_result"
    }
   ],
   "source": [
    "import pandas as pd\n",
    "\n",
    "df = pd.read_csv(\"dirty_data.csv\")\n",
    "\n",
    "# Kiểm tra các cột có dữ liệu thiếu:\n",
    "check = df.isnull().sum()\n",
    "\n",
    "print(check)\n",
    "df"
   ]
  },
  {
   "cell_type": "code",
   "execution_count": 4,
   "metadata": {},
   "outputs": [],
   "source": [
    "#Loại bỏ các hàng có nhiều dữ liệu bị thiếu\n",
    "df.dropna(thresh = len(df.columns) - 3, inplace = True)"
   ]
  },
  {
   "cell_type": "code",
   "execution_count": 5,
   "metadata": {},
   "outputs": [
    {
     "name": "stdout",
     "output_type": "stream",
     "text": [
      "count     10.000000\n",
      "mean      38.200000\n",
      "std       41.311284\n",
      "min       -5.000000\n",
      "25%       22.750000\n",
      "50%       28.000000\n",
      "75%       37.500000\n",
      "max      150.000000\n",
      "Name: age, dtype: float64\n"
     ]
    }
   ],
   "source": [
    "#Tìm giá trị bất thường của cột \"age\"\n",
    "print(df[\"age\"].describe())\n",
    "\n",
    "#Sửa giá trị bất thường cột \"age\"\n",
    "df[\"age\"] = df[\"age\"].apply(lambda x: x if 0 <= x <= 100 else df[\"age\"].mean())\n"
   ]
  },
  {
   "cell_type": "code",
   "execution_count": 6,
   "metadata": {},
   "outputs": [
    {
     "name": "stdout",
     "output_type": "stream",
     "text": [
      "count       10\n",
      "unique       9\n",
      "top       3900\n",
      "freq         2\n",
      "Name: income, dtype: object\n"
     ]
    },
    {
     "ename": "TypeError",
     "evalue": "'>=' not supported between instances of 'str' and 'int'",
     "output_type": "error",
     "traceback": [
      "\u001b[0;31m---------------------------------------------------------------------------\u001b[0m",
      "\u001b[0;31mTypeError\u001b[0m                                 Traceback (most recent call last)",
      "\u001b[1;32m/Users/tgvn.here/Desktop/Week3_DataAnalytic&DeepLearning/lab3.ipynb Cell 19\u001b[0m line \u001b[0;36m5\n\u001b[1;32m      <a href='vscode-notebook-cell:/Users/tgvn.here/Desktop/Week3_DataAnalytic%26DeepLearning/lab3.ipynb#X25sZmlsZQ%3D%3D?line=1'>2</a>\u001b[0m \u001b[39mprint\u001b[39m(df[\u001b[39m\"\u001b[39m\u001b[39mincome\u001b[39m\u001b[39m\"\u001b[39m]\u001b[39m.\u001b[39mdescribe())\n\u001b[1;32m      <a href='vscode-notebook-cell:/Users/tgvn.here/Desktop/Week3_DataAnalytic%26DeepLearning/lab3.ipynb#X25sZmlsZQ%3D%3D?line=3'>4</a>\u001b[0m \u001b[39m#Sửa giá trị bất thường cột \"income\"\u001b[39;00m\n\u001b[0;32m----> <a href='vscode-notebook-cell:/Users/tgvn.here/Desktop/Week3_DataAnalytic%26DeepLearning/lab3.ipynb#X25sZmlsZQ%3D%3D?line=4'>5</a>\u001b[0m df \u001b[39m=\u001b[39m df[df[\u001b[39m\"\u001b[39m\u001b[39mincome\u001b[39m\u001b[39m\"\u001b[39m] \u001b[39m>\u001b[39m\u001b[39m=\u001b[39m \u001b[39m0\u001b[39m]\n",
      "File \u001b[0;32m/opt/anaconda3/lib/python3.12/site-packages/pandas/core/ops/common.py:76\u001b[0m, in \u001b[0;36m_unpack_zerodim_and_defer.<locals>.new_method\u001b[0;34m(self, other)\u001b[0m\n\u001b[1;32m     72\u001b[0m             \u001b[39mreturn\u001b[39;00m \u001b[39mNotImplemented\u001b[39m\n\u001b[1;32m     74\u001b[0m other \u001b[39m=\u001b[39m item_from_zerodim(other)\n\u001b[0;32m---> 76\u001b[0m \u001b[39mreturn\u001b[39;00m method(\u001b[39mself\u001b[39m, other)\n",
      "File \u001b[0;32m/opt/anaconda3/lib/python3.12/site-packages/pandas/core/arraylike.py:60\u001b[0m, in \u001b[0;36mOpsMixin.__ge__\u001b[0;34m(self, other)\u001b[0m\n\u001b[1;32m     58\u001b[0m \u001b[39m@unpack_zerodim_and_defer\u001b[39m(\u001b[39m\"\u001b[39m\u001b[39m__ge__\u001b[39m\u001b[39m\"\u001b[39m)\n\u001b[1;32m     59\u001b[0m \u001b[39mdef\u001b[39;00m \u001b[39m__ge__\u001b[39m(\u001b[39mself\u001b[39m, other):\n\u001b[0;32m---> 60\u001b[0m     \u001b[39mreturn\u001b[39;00m \u001b[39mself\u001b[39m\u001b[39m.\u001b[39m_cmp_method(other, operator\u001b[39m.\u001b[39mge)\n",
      "File \u001b[0;32m/opt/anaconda3/lib/python3.12/site-packages/pandas/core/series.py:6119\u001b[0m, in \u001b[0;36mSeries._cmp_method\u001b[0;34m(self, other, op)\u001b[0m\n\u001b[1;32m   6116\u001b[0m lvalues \u001b[39m=\u001b[39m \u001b[39mself\u001b[39m\u001b[39m.\u001b[39m_values\n\u001b[1;32m   6117\u001b[0m rvalues \u001b[39m=\u001b[39m extract_array(other, extract_numpy\u001b[39m=\u001b[39m\u001b[39mTrue\u001b[39;00m, extract_range\u001b[39m=\u001b[39m\u001b[39mTrue\u001b[39;00m)\n\u001b[0;32m-> 6119\u001b[0m res_values \u001b[39m=\u001b[39m ops\u001b[39m.\u001b[39mcomparison_op(lvalues, rvalues, op)\n\u001b[1;32m   6121\u001b[0m \u001b[39mreturn\u001b[39;00m \u001b[39mself\u001b[39m\u001b[39m.\u001b[39m_construct_result(res_values, name\u001b[39m=\u001b[39mres_name)\n",
      "File \u001b[0;32m/opt/anaconda3/lib/python3.12/site-packages/pandas/core/ops/array_ops.py:344\u001b[0m, in \u001b[0;36mcomparison_op\u001b[0;34m(left, right, op)\u001b[0m\n\u001b[1;32m    341\u001b[0m     \u001b[39mreturn\u001b[39;00m invalid_comparison(lvalues, rvalues, op)\n\u001b[1;32m    343\u001b[0m \u001b[39melif\u001b[39;00m lvalues\u001b[39m.\u001b[39mdtype \u001b[39m==\u001b[39m \u001b[39mobject\u001b[39m \u001b[39mor\u001b[39;00m \u001b[39misinstance\u001b[39m(rvalues, \u001b[39mstr\u001b[39m):\n\u001b[0;32m--> 344\u001b[0m     res_values \u001b[39m=\u001b[39m comp_method_OBJECT_ARRAY(op, lvalues, rvalues)\n\u001b[1;32m    346\u001b[0m \u001b[39melse\u001b[39;00m:\n\u001b[1;32m    347\u001b[0m     res_values \u001b[39m=\u001b[39m _na_arithmetic_op(lvalues, rvalues, op, is_cmp\u001b[39m=\u001b[39m\u001b[39mTrue\u001b[39;00m)\n",
      "File \u001b[0;32m/opt/anaconda3/lib/python3.12/site-packages/pandas/core/ops/array_ops.py:129\u001b[0m, in \u001b[0;36mcomp_method_OBJECT_ARRAY\u001b[0;34m(op, x, y)\u001b[0m\n\u001b[1;32m    127\u001b[0m     result \u001b[39m=\u001b[39m libops\u001b[39m.\u001b[39mvec_compare(x\u001b[39m.\u001b[39mravel(), y\u001b[39m.\u001b[39mravel(), op)\n\u001b[1;32m    128\u001b[0m \u001b[39melse\u001b[39;00m:\n\u001b[0;32m--> 129\u001b[0m     result \u001b[39m=\u001b[39m libops\u001b[39m.\u001b[39mscalar_compare(x\u001b[39m.\u001b[39mravel(), y, op)\n\u001b[1;32m    130\u001b[0m \u001b[39mreturn\u001b[39;00m result\u001b[39m.\u001b[39mreshape(x\u001b[39m.\u001b[39mshape)\n",
      "File \u001b[0;32mops.pyx:107\u001b[0m, in \u001b[0;36mpandas._libs.ops.scalar_compare\u001b[0;34m()\u001b[0m\n",
      "\u001b[0;31mTypeError\u001b[0m: '>=' not supported between instances of 'str' and 'int'"
     ]
    }
   ],
   "source": [
    "#Kiểm trra cột \"income\"\n",
    "print(df[\"income\"].describe())\n",
    "\n",
    "#Sửa giá trị bất thường cột \"income\"\n",
    "df = df[df[\"income\"] >= 0]"
   ]
  },
  {
   "cell_type": "code",
   "execution_count": 7,
   "metadata": {},
   "outputs": [],
   "source": [
    "#Chuyển đổi cột ngày sinh về dạng chuẩn \n",
    "df[\"dob\"] = pd.to_datetime(df[\"dob\"], errors = \"coerce\").dt.strftime(\"%Y-%m-%d\")"
   ]
  },
  {
   "cell_type": "code",
   "execution_count": 8,
   "metadata": {},
   "outputs": [],
   "source": [
    "#Chuẩn hoá dữ liệu cột giới tính\n",
    "df[\"gender\"] = df[\"gender\"].str.lower().str.strip()\n",
    "df[\"gender\"] = df[\"gender\"].apply(lambda x: \"Male\" if x == \"male\" else \"Female\" if x == \"female\" else None)"
   ]
  },
  {
   "cell_type": "code",
   "execution_count": 9,
   "metadata": {},
   "outputs": [],
   "source": [
    "#Loại bỏ dữ liệu bị trùng lặp\n",
    "df.drop_duplicates(inplace = True)"
   ]
  },
  {
   "cell_type": "code",
   "execution_count": 10,
   "metadata": {},
   "outputs": [],
   "source": [
    "#Xuất và lưu dữ liệu đã làm sạch\n",
    "df.to_csv(\"clean_data.csv\", index = False)"
   ]
  }
 ],
 "metadata": {
  "kernelspec": {
   "display_name": "base",
   "language": "python",
   "name": "python3"
  },
  "language_info": {
   "codemirror_mode": {
    "name": "ipython",
    "version": 3
   },
   "file_extension": ".py",
   "mimetype": "text/x-python",
   "name": "python",
   "nbconvert_exporter": "python",
   "pygments_lexer": "ipython3",
   "version": "3.12.2"
  },
  "orig_nbformat": 4
 },
 "nbformat": 4,
 "nbformat_minor": 2
}
